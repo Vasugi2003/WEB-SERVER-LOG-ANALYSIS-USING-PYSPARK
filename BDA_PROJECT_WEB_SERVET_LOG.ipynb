{
  "cells": [
    {
      "cell_type": "code",
      "execution_count": null,
      "metadata": {
        "colab": {
          "base_uri": "https://localhost:8080/"
        },
        "id": "qzkfGsKyXnM0",
        "outputId": "7d0db6d7-3995-4264-acd6-3b93ea9f271e"
      },
      "outputs": [
        {
          "name": "stdout",
          "output_type": "stream",
          "text": [
            "Requirement already satisfied: pyspark in /usr/local/lib/python3.10/dist-packages (3.5.0)\n",
            "Requirement already satisfied: py4j==0.10.9.7 in /usr/local/lib/python3.10/dist-packages (from pyspark) (0.10.9.7)\n"
          ]
        }
      ],
      "source": [
        "!pip install pyspark"
      ]
    },
    {
      "cell_type": "code",
      "execution_count": null,
      "metadata": {
        "id": "G1_AFrkRFXXi"
      },
      "outputs": [],
      "source": [
        "import os\n",
        "import sys\n",
        "\n",
        "os.environ['PYSPARK_PYTHON'] = sys.executable\n",
        "os.environ['PYSPARK_DRIVER_PYTHON'] = sys.executable"
      ]
    },
    {
      "cell_type": "code",
      "execution_count": null,
      "metadata": {
        "id": "ZR7LXIuhbn5I"
      },
      "outputs": [],
      "source": [
        "import re\n",
        "import datetime\n",
        "from pyspark.sql import Row\n",
        "from pyspark.sql import SparkSession"
      ]
    },
    {
      "cell_type": "code",
      "execution_count": null,
      "metadata": {
        "colab": {
          "base_uri": "https://localhost:8080/"
        },
        "id": "krTjFUJrX8f4",
        "outputId": "3807a904-ea64-42b0-8d85-e7e01df38afd"
      },
      "outputs": [
        {
          "name": "stdout",
          "output_type": "stream",
          "text": [
            "Drive already mounted at /content/drive; to attempt to forcibly remount, call drive.mount(\"/content/drive\", force_remount=True).\n"
          ]
        }
      ],
      "source": [
        "from google.colab import drive\n",
        "drive.mount('/content/drive')"
      ]
    },
    {
      "cell_type": "code",
      "execution_count": null,
      "metadata": {
        "id": "JCWZuu_UbywO"
      },
      "outputs": [],
      "source": [
        "APACHE_ACCESS_LOG_PATTERN = r'^(\\S+) (\\S+) (\\S+) \\[([\\w:/]+\\s[+\\-]\\d{4})\\] \"(\\S+) (\\S+)\\s*(\\S*)\\s*\" (\\d{3}) (\\S+)'\n",
        "\n",
        "month_map = {'Jan': 1, 'Feb': 2, 'Mar': 3, 'Apr': 4, 'May': 5, 'Jun': 6, 'Jul': 7,\n",
        "             'Aug': 8, 'Sep': 9, 'Oct': 10, 'Nov': 11, 'Dec': 12}"
      ]
    },
    {
      "cell_type": "code",
      "execution_count": null,
      "metadata": {
        "id": "T-c268AgbyzG"
      },
      "outputs": [],
      "source": [
        "def parse_apache_time(s):\n",
        "    return datetime.datetime(int(s[7:11]),\n",
        "                             month_map[s[3:6]],\n",
        "                             int(s[0:2]),\n",
        "                             int(s[12:14]),\n",
        "                             int(s[15:17]),\n",
        "                             int(s[18:20]))\n",
        "\n",
        "def parseApacheLogLine(logline):\n",
        "    match = re.search(APACHE_ACCESS_LOG_PATTERN, logline)\n",
        "    if match is None:\n",
        "        return (logline, 0)\n",
        "    size_field = match.group(9)\n",
        "    if size_field == '-':\n",
        "        size = int(0)\n",
        "    else:\n",
        "        size = int(match.group(9))\n",
        "    return (Row(\n",
        "        host=match.group(1),\n",
        "        client_identd=match.group(2),\n",
        "        user_id=match.group(3),\n",
        "        date_time=parse_apache_time(match.group(4)),\n",
        "        method=match.group(5),\n",
        "        endpoint=match.group(6),\n",
        "        protocol=match.group(7),\n",
        "        response_code=int(match.group(8)),\n",
        "        content_size=size\n",
        "    ), 1)\n"
      ]
    },
    {
      "cell_type": "code",
      "execution_count": null,
      "metadata": {
        "id": "VbcInFrRby2C"
      },
      "outputs": [],
      "source": [
        "spark = SparkSession.builder.appName(\"LogParser\").getOrCreate()"
      ]
    },
    {
      "cell_type": "code",
      "execution_count": null,
      "metadata": {
        "id": "uZdMbPCuby4n"
      },
      "outputs": [],
      "source": [
        "log_file = \"/content/drive/MyDrive/access_log_Aug95\"  # Replace with the path to your log file\n",
        "log_data = spark.sparkContext.textFile(log_file)"
      ]
    },
    {
      "cell_type": "code",
      "execution_count": null,
      "metadata": {
        "id": "N8o0ivmrby7i"
      },
      "outputs": [],
      "source": [
        "parsed_data = log_data.map(parseApacheLogLine).filter(lambda x: x[1] == 1).map(lambda x: x[0])\n"
      ]
    },
    {
      "cell_type": "code",
      "execution_count": null,
      "metadata": {
        "id": "nGbSXgRvcMTg"
      },
      "outputs": [],
      "source": [
        "log_df = spark.createDataFrame(parsed_data)\n"
      ]
    },
    {
      "cell_type": "code",
      "execution_count": null,
      "metadata": {
        "id": "BURM3RJmcMXC"
      },
      "outputs": [],
      "source": [
        "output_csv = \"parsed_log_data.csv\"  # Use the existing file name\n",
        "log_df.coalesce(1).write.mode(\"overwrite\").option(\"header\", \"true\").csv(output_csv)\n"
      ]
    },
    {
      "cell_type": "code",
      "execution_count": null,
      "metadata": {
        "id": "yd6mOnWwbzAY"
      },
      "outputs": [],
      "source": [
        "import pandas as pd\n",
        "from sklearn.model_selection import train_test_split\n",
        "from sklearn.ensemble import RandomForestClassifier\n",
        "from sklearn.metrics import accuracy_score"
      ]
    },
    {
      "cell_type": "code",
      "execution_count": null,
      "metadata": {
        "colab": {
          "base_uri": "https://localhost:8080/"
        },
        "id": "LkT6UNHkbzCV",
        "outputId": "bf31d7d5-f84c-41bb-8cb0-6c5e80237040"
      },
      "outputs": [
        {
          "name": "stderr",
          "output_type": "stream",
          "text": [
            "<ipython-input-50-c497ef190d53>:2: FutureWarning: The error_bad_lines argument has been deprecated and will be removed in a future version. Use on_bad_lines in the future.\n",
            "\n",
            "\n",
            "  data = pd.read_csv(csv_file, error_bad_lines=False)\n",
            "Skipping line 275355: expected 9 fields, saw 10\n",
            "\n",
            "Skipping line 428663: expected 9 fields, saw 10\n",
            "\n",
            "Skipping line 1265428: expected 9 fields, saw 10\n",
            "\n"
          ]
        }
      ],
      "source": [
        "csv_file = \"/content/parsed_log_data.csv/part-00000-d371c7a1-1175-4da3-bb39-67c270b582d5-c000.csv\"\n",
        "data = pd.read_csv(csv_file, error_bad_lines=False)\n"
      ]
    },
    {
      "cell_type": "code",
      "execution_count": null,
      "metadata": {
        "colab": {
          "base_uri": "https://localhost:8080/"
        },
        "id": "rHW-BDVkdS7T",
        "outputId": "11ce5e89-d7eb-4773-9373-07dabbb29e13"
      },
      "outputs": [
        {
          "name": "stdout",
          "output_type": "stream",
          "text": [
            "                host client_identd user_id                 date_time method  \\\n",
            "0  in24.inetnebr.com             -       -  1995-08-01T00:00:01.000Z    GET   \n",
            "1    uplherc.upl.com             -       -  1995-08-01T00:00:07.000Z    GET   \n",
            "2    uplherc.upl.com             -       -  1995-08-01T00:00:08.000Z    GET   \n",
            "3    uplherc.upl.com             -       -  1995-08-01T00:00:08.000Z    GET   \n",
            "4    uplherc.upl.com             -       -  1995-08-01T00:00:08.000Z    GET   \n",
            "\n",
            "                                          endpoint  protocol  response_code  \\\n",
            "0  /shuttle/missions/sts-68/news/sts-68-mcc-05.txt  HTTP/1.0            200   \n",
            "1                                                /  HTTP/1.0            304   \n",
            "2                       /images/ksclogo-medium.gif  HTTP/1.0            304   \n",
            "3                     /images/MOSAIC-logosmall.gif  HTTP/1.0            304   \n",
            "4                        /images/USA-logosmall.gif  HTTP/1.0            304   \n",
            "\n",
            "   content_size  \n",
            "0          1839  \n",
            "1             0  \n",
            "2             0  \n",
            "3             0  \n",
            "4             0  \n"
          ]
        }
      ],
      "source": [
        "print(data.head())"
      ]
    },
    {
      "cell_type": "code",
      "execution_count": null,
      "metadata": {
        "colab": {
          "base_uri": "https://localhost:8080/"
        },
        "id": "gouBc52LM1q-",
        "outputId": "34ad623a-1e36-49f1-d0ef-8290037d0f55"
      },
      "outputs": [
        {
          "data": {
            "text/plain": [
              "Index(['host', 'client_identd', 'user_id', 'date_time', 'method', 'endpoint',\n",
              "       'protocol', 'response_code', 'content_size'],\n",
              "      dtype='object')"
            ]
          },
          "execution_count": 52,
          "metadata": {},
          "output_type": "execute_result"
        }
      ],
      "source": [
        "data.columns"
      ]
    },
    {
      "cell_type": "code",
      "execution_count": null,
      "metadata": {
        "colab": {
          "base_uri": "https://localhost:8080/"
        },
        "id": "iSfeB_7-dS_6",
        "outputId": "ab832396-50dc-46a8-b9c7-1db9e5e7ce41"
      },
      "outputs": [
        {
          "name": "stdout",
          "output_type": "stream",
          "text": [
            "                           host client_identd user_id  \\\n",
            "0             in24.inetnebr.com             -       -   \n",
            "1               uplherc.upl.com             -       -   \n",
            "2               uplherc.upl.com             -       -   \n",
            "3               uplherc.upl.com             -       -   \n",
            "4               uplherc.upl.com             -       -   \n",
            "...                         ...           ...     ...   \n",
            "1568738     gatekeeper.uccu.com             -       -   \n",
            "1568739     gatekeeper.uccu.com             -       -   \n",
            "1568740   cys-cap-9.wyoming.com             -       -   \n",
            "1568741    www-c8.proxy.aol.com             -       -   \n",
            "1568742  cindy.yamato.ibm.co.jp             -       -   \n",
            "\n",
            "                        date_time method  \\\n",
            "0        1995-08-01T00:00:01.000Z    GET   \n",
            "1        1995-08-01T00:00:07.000Z    GET   \n",
            "2        1995-08-01T00:00:08.000Z    GET   \n",
            "3        1995-08-01T00:00:08.000Z    GET   \n",
            "4        1995-08-01T00:00:08.000Z    GET   \n",
            "...                           ...    ...   \n",
            "1568738  1995-08-31T23:59:49.000Z    GET   \n",
            "1568739  1995-08-31T23:59:49.000Z    GET   \n",
            "1568740  1995-08-31T23:59:52.000Z    GET   \n",
            "1568741  1995-08-31T23:59:52.000Z    GET   \n",
            "1568742  1995-08-31T23:59:53.000Z    GET   \n",
            "\n",
            "                                                  endpoint  protocol  \\\n",
            "0          /shuttle/missions/sts-68/news/sts-68-mcc-05.txt  HTTP/1.0   \n",
            "1                                                        /  HTTP/1.0   \n",
            "2                               /images/ksclogo-medium.gif  HTTP/1.0   \n",
            "3                             /images/MOSAIC-logosmall.gif  HTTP/1.0   \n",
            "4                                /images/USA-logosmall.gif  HTTP/1.0   \n",
            "...                                                    ...       ...   \n",
            "1568738                           /images/ksclogosmall.gif  HTTP/1.0   \n",
            "1568739                             /images/lc39a-logo.gif  HTTP/1.0   \n",
            "1568740  /shuttle/missions/sts-71/movies/sts-71-launch-...  HTTP/1.0   \n",
            "1568741                                 /icons/unknown.xbm  HTTP/1.0   \n",
            "1568742                           /images/kscmap-small.gif  HTTP/1.0   \n",
            "\n",
            "         response_code  content_size  \n",
            "0                  200          1839  \n",
            "1                  304             0  \n",
            "2                  304             0  \n",
            "3                  304             0  \n",
            "4                  304             0  \n",
            "...                ...           ...  \n",
            "1568738            304             0  \n",
            "1568739            304             0  \n",
            "1568740            200         57344  \n",
            "1568741            200           515  \n",
            "1568742            200         39017  \n",
            "\n",
            "[1568743 rows x 9 columns]\n"
          ]
        }
      ],
      "source": [
        "print(data)"
      ]
    },
    {
      "cell_type": "code",
      "execution_count": null,
      "metadata": {
        "colab": {
          "base_uri": "https://localhost:8080/"
        },
        "id": "YZbIZMAjdTCD",
        "outputId": "5b308cf6-3f1b-4ec8-fb89-206f1214c0af"
      },
      "outputs": [
        {
          "name": "stdout",
          "output_type": "stream",
          "text": [
            "Index(['host', 'client_identd', 'user_id', 'date_time', 'method', 'endpoint',\n",
            "       'protocol', 'response_code', 'content_size'],\n",
            "      dtype='object')\n"
          ]
        }
      ],
      "source": [
        "\n",
        "print(data.columns)"
      ]
    },
    {
      "cell_type": "code",
      "execution_count": null,
      "metadata": {
        "id": "XMVjVDtJLw2P"
      },
      "outputs": [],
      "source": [
        "categorical_columns = ['host', 'client_identd', 'user_id', 'method', 'endpoint', 'protocol','date_time']\n"
      ]
    },
    {
      "cell_type": "code",
      "execution_count": null,
      "metadata": {
        "id": "XsZjldcYkPzb"
      },
      "outputs": [],
      "source": [
        "sample_data = data.sample(frac=0.5, random_state=42)"
      ]
    },
    {
      "cell_type": "code",
      "execution_count": null,
      "metadata": {
        "id": "dfVukYHoq9h5"
      },
      "outputs": [],
      "source": [
        "from sklearn.preprocessing import LabelEncoder\n",
        "\n",
        "# Initialize the label encoder\n",
        "label_encoder = LabelEncoder()\n",
        "\n"
      ]
    },
    {
      "cell_type": "code",
      "execution_count": null,
      "metadata": {
        "id": "BHTcf788LhJB"
      },
      "outputs": [],
      "source": [
        "# Encode the categorical columns\n",
        "for column in categorical_columns:\n",
        "    sample_data[column] = label_encoder.fit_transform(sample_data[column])"
      ]
    },
    {
      "cell_type": "code",
      "execution_count": null,
      "metadata": {
        "id": "G78iSaZ7sROd"
      },
      "outputs": [],
      "source": [
        "sample_data = sample_data.drop('date_time', axis=1)"
      ]
    },
    {
      "cell_type": "code",
      "execution_count": null,
      "metadata": {
        "id": "ErQSPy58rub-"
      },
      "outputs": [],
      "source": [
        "X = sample_data.drop(\"response_code\", axis=1)  # Features\n",
        "y = sample_data[\"response_code\"]  # Labels"
      ]
    },
    {
      "cell_type": "code",
      "execution_count": null,
      "metadata": {
        "id": "ocGg9On3rxzW"
      },
      "outputs": [],
      "source": [
        "X_train, X_test, y_train, y_test = train_test_split(X, y, test_size=0.2, random_state=42)\n"
      ]
    },
    {
      "cell_type": "code",
      "execution_count": null,
      "metadata": {
        "colab": {
          "base_uri": "https://localhost:8080/",
          "height": 74
        },
        "id": "wyikiDwvr1Wc",
        "outputId": "650c678c-6e4a-431a-e403-5a1cba3199ef"
      },
      "outputs": [
        {
          "data": {
            "text/html": [
              "<style>#sk-container-id-2 {color: black;background-color: white;}#sk-container-id-2 pre{padding: 0;}#sk-container-id-2 div.sk-toggleable {background-color: white;}#sk-container-id-2 label.sk-toggleable__label {cursor: pointer;display: block;width: 100%;margin-bottom: 0;padding: 0.3em;box-sizing: border-box;text-align: center;}#sk-container-id-2 label.sk-toggleable__label-arrow:before {content: \"▸\";float: left;margin-right: 0.25em;color: #696969;}#sk-container-id-2 label.sk-toggleable__label-arrow:hover:before {color: black;}#sk-container-id-2 div.sk-estimator:hover label.sk-toggleable__label-arrow:before {color: black;}#sk-container-id-2 div.sk-toggleable__content {max-height: 0;max-width: 0;overflow: hidden;text-align: left;background-color: #f0f8ff;}#sk-container-id-2 div.sk-toggleable__content pre {margin: 0.2em;color: black;border-radius: 0.25em;background-color: #f0f8ff;}#sk-container-id-2 input.sk-toggleable__control:checked~div.sk-toggleable__content {max-height: 200px;max-width: 100%;overflow: auto;}#sk-container-id-2 input.sk-toggleable__control:checked~label.sk-toggleable__label-arrow:before {content: \"▾\";}#sk-container-id-2 div.sk-estimator input.sk-toggleable__control:checked~label.sk-toggleable__label {background-color: #d4ebff;}#sk-container-id-2 div.sk-label input.sk-toggleable__control:checked~label.sk-toggleable__label {background-color: #d4ebff;}#sk-container-id-2 input.sk-hidden--visually {border: 0;clip: rect(1px 1px 1px 1px);clip: rect(1px, 1px, 1px, 1px);height: 1px;margin: -1px;overflow: hidden;padding: 0;position: absolute;width: 1px;}#sk-container-id-2 div.sk-estimator {font-family: monospace;background-color: #f0f8ff;border: 1px dotted black;border-radius: 0.25em;box-sizing: border-box;margin-bottom: 0.5em;}#sk-container-id-2 div.sk-estimator:hover {background-color: #d4ebff;}#sk-container-id-2 div.sk-parallel-item::after {content: \"\";width: 100%;border-bottom: 1px solid gray;flex-grow: 1;}#sk-container-id-2 div.sk-label:hover label.sk-toggleable__label {background-color: #d4ebff;}#sk-container-id-2 div.sk-serial::before {content: \"\";position: absolute;border-left: 1px solid gray;box-sizing: border-box;top: 0;bottom: 0;left: 50%;z-index: 0;}#sk-container-id-2 div.sk-serial {display: flex;flex-direction: column;align-items: center;background-color: white;padding-right: 0.2em;padding-left: 0.2em;position: relative;}#sk-container-id-2 div.sk-item {position: relative;z-index: 1;}#sk-container-id-2 div.sk-parallel {display: flex;align-items: stretch;justify-content: center;background-color: white;position: relative;}#sk-container-id-2 div.sk-item::before, #sk-container-id-2 div.sk-parallel-item::before {content: \"\";position: absolute;border-left: 1px solid gray;box-sizing: border-box;top: 0;bottom: 0;left: 50%;z-index: -1;}#sk-container-id-2 div.sk-parallel-item {display: flex;flex-direction: column;z-index: 1;position: relative;background-color: white;}#sk-container-id-2 div.sk-parallel-item:first-child::after {align-self: flex-end;width: 50%;}#sk-container-id-2 div.sk-parallel-item:last-child::after {align-self: flex-start;width: 50%;}#sk-container-id-2 div.sk-parallel-item:only-child::after {width: 0;}#sk-container-id-2 div.sk-dashed-wrapped {border: 1px dashed gray;margin: 0 0.4em 0.5em 0.4em;box-sizing: border-box;padding-bottom: 0.4em;background-color: white;}#sk-container-id-2 div.sk-label label {font-family: monospace;font-weight: bold;display: inline-block;line-height: 1.2em;}#sk-container-id-2 div.sk-label-container {text-align: center;}#sk-container-id-2 div.sk-container {/* jupyter's `normalize.less` sets `[hidden] { display: none; }` but bootstrap.min.css set `[hidden] { display: none !important; }` so we also need the `!important` here to be able to override the default hidden behavior on the sphinx rendered scikit-learn.org. See: https://github.com/scikit-learn/scikit-learn/issues/21755 */display: inline-block !important;position: relative;}#sk-container-id-2 div.sk-text-repr-fallback {display: none;}</style><div id=\"sk-container-id-2\" class=\"sk-top-container\"><div class=\"sk-text-repr-fallback\"><pre>RandomForestClassifier()</pre><b>In a Jupyter environment, please rerun this cell to show the HTML representation or trust the notebook. <br />On GitHub, the HTML representation is unable to render, please try loading this page with nbviewer.org.</b></div><div class=\"sk-container\" hidden><div class=\"sk-item\"><div class=\"sk-estimator sk-toggleable\"><input class=\"sk-toggleable__control sk-hidden--visually\" id=\"sk-estimator-id-2\" type=\"checkbox\" checked><label for=\"sk-estimator-id-2\" class=\"sk-toggleable__label sk-toggleable__label-arrow\">RandomForestClassifier</label><div class=\"sk-toggleable__content\"><pre>RandomForestClassifier()</pre></div></div></div></div></div>"
            ],
            "text/plain": [
              "RandomForestClassifier()"
            ]
          },
          "execution_count": 62,
          "metadata": {},
          "output_type": "execute_result"
        }
      ],
      "source": [
        "model = RandomForestClassifier()\n",
        "model.fit(X_train, y_train)"
      ]
    },
    {
      "cell_type": "code",
      "execution_count": null,
      "metadata": {
        "colab": {
          "base_uri": "https://localhost:8080/"
        },
        "id": "WYfGZteFeDkx",
        "outputId": "25cf08e0-a168-4fa6-9d57-070f5bac4b82"
      },
      "outputs": [
        {
          "name": "stdout",
          "output_type": "stream",
          "text": [
            "Accuracy: 0.9968318725099602\n"
          ]
        }
      ],
      "source": [
        "\n",
        "y_pred = model.predict(X_test)\n",
        "\n",
        "\n",
        "accuracy = accuracy_score(y_test, y_pred)\n",
        "print(f\"Accuracy: {accuracy}\")"
      ]
    },
    {
      "cell_type": "code",
      "execution_count": null,
      "metadata": {
        "id": "N90hz2qrPMGT"
      },
      "outputs": [],
      "source": [
        "import pandas as pd\n",
        "from sklearn.model_selection import train_test_split\n",
        "from sklearn.ensemble import RandomForestClassifier\n",
        "from sklearn.preprocessing import StandardScaler, OneHotEncoder\n",
        "from sklearn.compose import ColumnTransformer\n",
        "from sklearn.pipeline import Pipeline\n",
        "from sklearn.metrics import accuracy_score\n",
        "\n",
        "\n",
        "filepath = \"/content/parsed_log_data.csv/part-00000-d371c7a1-1175-4da3-bb39-67c270b582d5-c000.csv\"\n",
        "df1 = spark.read.csv(filepath, header=True)\n",
        "\n",
        "\n"
      ]
    },
    {
      "cell_type": "code",
      "execution_count": null,
      "metadata": {
        "id": "gGDD5HjkD9S4"
      },
      "outputs": [],
      "source": [
        "from pyspark.ml import Pipeline\n",
        "from pyspark.ml.feature import StringIndexer, VectorAssembler\n",
        "from pyspark.ml.classification import DecisionTreeClassifier\n",
        "from pyspark.sql import SparkSession\n",
        "from pyspark.sql.functions import when\n",
        "from pyspark.sql.types import IntegerType\n",
        "import pyspark.sql.functions as F"
      ]
    },
    {
      "cell_type": "code",
      "execution_count": null,
      "metadata": {
        "colab": {
          "base_uri": "https://localhost:8080/"
        },
        "id": "ILAYu8kRN4_6",
        "outputId": "aff3414d-5e39-40a5-cccd-dd29f8bc9eb5"
      },
      "outputs": [
        {
          "name": "stdout",
          "output_type": "stream",
          "text": [
            "+-------------+----------+\n",
            "|response_code|prediction|\n",
            "+-------------+----------+\n",
            "|            1|       1.0|\n",
            "|            1|       1.0|\n",
            "|            1|       1.0|\n",
            "|            1|       1.0|\n",
            "|            1|       1.0|\n",
            "+-------------+----------+\n",
            "only showing top 5 rows\n",
            "\n",
            "Accuracy: 1.0\n"
          ]
        }
      ],
      "source": [
        "from pyspark.sql import SparkSession\n",
        "from pyspark.ml.feature import VectorAssembler\n",
        "from pyspark.ml.classification import DecisionTreeClassifier\n",
        "from pyspark.ml.feature import StringIndexer\n",
        "from pyspark.ml import Pipeline\n",
        "from pyspark.ml.evaluation import MulticlassClassificationEvaluator\n",
        "from pyspark.sql.functions import when\n",
        "from pyspark.sql.types import IntegerType\n",
        "\n",
        "# Initialize a Spark session\n",
        "spark = SparkSession.builder.appName(\"LeatherDefectClassification\").getOrCreate()\n",
        "\n",
        "df1 = df1.withColumn(\"response_code\", when(df1[\"response_code\"] > 0, 1).otherwise(0).cast(IntegerType()))\n",
        "\n",
        "inputColumns = ['client_identd', 'user_id', 'content_size']\n",
        "outputColumn = \"features\"\n",
        "\n",
        "\n",
        "for col_name in inputColumns:\n",
        "    df1 = df1.withColumn(col_name, df1[col_name].cast(IntegerType()))\n",
        "\n",
        "# Fill null values in the DataFrame\n",
        "df1 = df1.fillna(0, subset=inputColumns)\n",
        "\n",
        "price_indexer = StringIndexer(inputCol=\"response_code\", outputCol=\"responseIndex\")\n",
        "\n",
        "vector_assembler = VectorAssembler(inputCols=inputColumns, outputCol=outputColumn, handleInvalid=\"skip\")\n",
        "dt_model = DecisionTreeClassifier(labelCol=\"response_code\", featuresCol=outputColumn)\n",
        "\n",
        "stages = [price_indexer, vector_assembler, dt_model]\n",
        "\n",
        "pipeline = Pipeline(stages=stages)\n",
        "\n",
        "(train_df2, test_df2) = df1.randomSplit([0.8, 0.2], seed=11)\n",
        "\n",
        "final_pipeline = pipeline.fit(train_df2)\n",
        "test_predictions_from_pipeline = final_pipeline.transform(test_df2)\n",
        "\n",
        "test_predictions_from_pipeline.select(\"response_code\", \"prediction\").show(5)\n",
        "\n",
        "evaluator = MulticlassClassificationEvaluator(labelCol=\"response_code\", predictionCol=\"prediction\", metricName=\"accuracy\")\n",
        "accuracy = evaluator.evaluate(test_predictions_from_pipeline)\n",
        "print(f\"Accuracy: {accuracy}\")\n",
        "\n"
      ]
    },
    {
      "cell_type": "code",
      "execution_count": null,
      "metadata": {
        "colab": {
          "background_save": true
        },
        "id": "oX8iol-yN5Fe",
        "outputId": "8da9edbe-9d2a-4b73-9655-4aadf4b71818"
      },
      "outputs": [
        {
          "name": "stdout",
          "output_type": "stream",
          "text": [
            "+-------------+----------+\n",
            "|response_code|prediction|\n",
            "+-------------+----------+\n",
            "|            1|       1.0|\n",
            "|            1|       1.0|\n",
            "|            1|       1.0|\n",
            "|            1|       1.0|\n",
            "|            1|       1.0|\n",
            "+-------------+----------+\n",
            "only showing top 5 rows\n",
            "\n",
            "Accuracy: 1.0\n"
          ]
        }
      ],
      "source": [
        "from pyspark.ml.tuning import ParamGridBuilder, CrossValidator\n",
        "\n",
        "param_grid = ParamGridBuilder() \\\n",
        "    .addGrid(dt_model.maxDepth, [5, 10, 15]) \\\n",
        "    .addGrid(dt_model.maxBins, [32, 64, 128]) \\\n",
        "    .build()\n",
        "\n",
        "\n",
        "cv = CrossValidator(estimator=pipeline,\n",
        "                    estimatorParamMaps=param_grid,\n",
        "                    evaluator=evaluator,\n",
        "                    numFolds=5)\n",
        "cv_model = cv.fit(train_df2)\n",
        "\n",
        "\n",
        "test_predictions_from_cv = cv_model.transform(test_df2)\n",
        "\n",
        "test_predictions_from_cv.select(\"response_code\", \"prediction\").show(5)\n",
        "\n",
        "# Evaluate the model's performance\n",
        "accuracy = evaluator.evaluate(test_predictions_from_cv)\n",
        "print(f\"Accuracy: {accuracy}\")\n"
      ]
    },
    {
      "cell_type": "code",
      "source": [
        "import matplotlib.pyplot as plt\n",
        "import seaborn as sns\n",
        "from sklearn.metrics import confusion_matrix\n",
        "\n",
        "true_labels = test_predictions_from_cv.select(\"response_code\").rdd.flatMap(lambda x: x).collect()\n",
        "predicted_labels = test_predictions_from_cv.select(\"prediction\").rdd.flatMap(lambda x: x).collect()\n",
        "\n",
        "\n",
        "cm = confusion_matrix(true_labels, predicted_labels)\n",
        "\n",
        "# Plot the confusion matrix\n",
        "plt.figure(figsize=(8, 6))\n",
        "sns.heatmap(cm, annot=True, fmt=\"d\", cmap=\"Blues\", cbar=False)\n",
        "plt.xlabel(\"Predicted\")\n",
        "plt.ylabel(\"True\")\n",
        "plt.title(\"Confusion Matrix\")\n",
        "plt.show()\n"
      ],
      "metadata": {
        "colab": {
          "base_uri": "https://localhost:8080/",
          "height": 564
        },
        "id": "X9lwlEyNtk-u",
        "outputId": "a8e8cb93-a9ca-43b4-e0c0-d1286f20de20"
      },
      "execution_count": null,
      "outputs": [
        {
          "output_type": "display_data",
          "data": {
            "text/plain": [
              "<Figure size 800x600 with 1 Axes>"
            ],
            "image/png": "[encoded data removed]"
          },
          "metadata": {}
        }
      ]
    },
    {
      "cell_type": "code",
      "source": [
        "!pip install matplotlib seaborn\n"
      ],
      "metadata": {
        "colab": {
          "base_uri": "https://localhost:8080/"
        },
        "id": "YHEZsI_utlkF",
        "outputId": "15dc103b-3811-4343-e2ca-8384c551742c"
      },
      "execution_count": null,
      "outputs": [
        {
          "output_type": "stream",
          "name": "stdout",
          "text": [
            "Requirement already satisfied: matplotlib in /usr/local/lib/python3.10/dist-packages (3.7.1)\n",
            "Requirement already satisfied: seaborn in /usr/local/lib/python3.10/dist-packages (0.12.2)\n",
            "Requirement already satisfied: contourpy>=1.0.1 in /usr/local/lib/python3.10/dist-packages (from matplotlib) (1.1.1)\n",
            "Requirement already satisfied: cycler>=0.10 in /usr/local/lib/python3.10/dist-packages (from matplotlib) (0.12.1)\n",
            "Requirement already satisfied: fonttools>=4.22.0 in /usr/local/lib/python3.10/dist-packages (from matplotlib) (4.43.1)\n",
            "Requirement already satisfied: kiwisolver>=1.0.1 in /usr/local/lib/python3.10/dist-packages (from matplotlib) (1.4.5)\n",
            "Requirement already satisfied: numpy>=1.20 in /usr/local/lib/python3.10/dist-packages (from matplotlib) (1.23.5)\n",
            "Requirement already satisfied: packaging>=20.0 in /usr/local/lib/python3.10/dist-packages (from matplotlib) (23.2)\n",
            "Requirement already satisfied: pillow>=6.2.0 in /usr/local/lib/python3.10/dist-packages (from matplotlib) (9.4.0)\n",
            "Requirement already satisfied: pyparsing>=2.3.1 in /usr/local/lib/python3.10/dist-packages (from matplotlib) (3.1.1)\n",
            "Requirement already satisfied: python-dateutil>=2.7 in /usr/local/lib/python3.10/dist-packages (from matplotlib) (2.8.2)\n",
            "Requirement already satisfied: pandas>=0.25 in /usr/local/lib/python3.10/dist-packages (from seaborn) (1.5.3)\n",
            "Requirement already satisfied: pytz>=2020.1 in /usr/local/lib/python3.10/dist-packages (from pandas>=0.25->seaborn) (2023.3.post1)\n",
            "Requirement already satisfied: six>=1.5 in /usr/local/lib/python3.10/dist-packages (from python-dateutil>=2.7->matplotlib) (1.16.0)\n"
          ]
        }
      ]
    },
    {
      "cell_type": "code",
      "source": [
        "import matplotlib.pyplot as plt\n",
        "import seaborn as sns\n",
        "\n",
        "\n",
        "data = test_predictions_from_pipeline.select(\"response_code\", \"prediction\").toPandas()\n",
        "\n",
        "# Bar Plot\n",
        "plt.figure(figsize=(8, 6))\n",
        "sns.countplot(data=data, x=\"response_code\")\n",
        "plt.title(\"Bar Plot of Response Codes\")\n",
        "plt.show()\n",
        "\n",
        "# Pie Chart\n",
        "plt.figure(figsize=(8, 6))\n",
        "plt.pie(data[\"response_code\"].value_counts(), labels=data[\"response_code\"].unique(), autopct='%1.1f%%')\n",
        "plt.title(\"Pie Chart of Response Codes\")\n",
        "plt.show()\n",
        "\n",
        "# Scatter Plot\n",
        "plt.figure(figsize=(8, 6))\n",
        "sns.scatterplot(data=data, x=\"response_code\", y=\"prediction\")\n",
        "plt.title(\"Scatter Plot of Response Code vs. Prediction\")\n",
        "plt.show()\n"
      ],
      "metadata": {
        "colab": {
          "base_uri": "https://localhost:8080/",
          "height": 1000
        },
        "id": "c-4AcJlHt12G",
        "outputId": "5e7650f2-04b3-472d-afa0-9f1ddde2db20"
      },
      "execution_count": null,
      "outputs": [
        {
          "output_type": "display_data",
          "data": {
            "text/plain": [
              "<Figure size 800x600 with 1 Axes>"
            ],
            "image/png": "[encoded data removed]"
          },
          "metadata": {}
        },
        {
          "output_type": "display_data",
          "data": {
            "text/plain": [
              "<Figure size 800x600 with 1 Axes>"
            ],
            "image/png": "[encoded data removed]"
          },
          "metadata": {}
        },
        {
          "output_type": "display_data",
          "data": {
            "text/plain": [
              "<Figure size 800x600 with 1 Axes>"
            ],
            "image/png": "[encoded data removed]"
          },
          "metadata": {}
        }
      ]
    },
    {
      "cell_type": "code",
      "source": [
        "import pandas as pd\n",
        "\n",
        "# Create a sample test DataFrame\n",
        "data = {\n",
        "    'client_identd': [1, 2, 3, 4, 5],\n",
        "    'user_id': [101, 102, 103, 104, 105],\n",
        "    'content_size': [1000, 1500, 800, 1200, 1600],\n",
        "}\n",
        "\n",
        "data['response_code'] = [0, 1, 0, 1, 0]\n",
        "\n",
        "test_df = pd.DataFrame(data)"
      ],
      "metadata": {
        "id": "0Vl2aJ1buY2g"
      },
      "execution_count": null,
      "outputs": []
    },
    {
      "cell_type": "code",
      "source": [],
      "metadata": {
        "id": "_4tQZ42QywEt"
      },
      "execution_count": null,
      "outputs": []
    }
  ],
  "metadata": {
    "colab": {
      "provenance": []
    },
    "kernelspec": {
      "display_name": "Python 3",
      "name": "python3"
    },
    "language_info": {
      "name": "python"
    }
  },
  "nbformat": 4,
  "nbformat_minor": 0
}