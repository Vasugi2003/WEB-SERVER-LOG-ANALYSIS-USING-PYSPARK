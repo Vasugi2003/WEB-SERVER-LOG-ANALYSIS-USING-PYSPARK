{
  "nbformat": 4,
  "nbformat_minor": 0,
  "metadata": {
    "colab": {
      "provenance": []
    },
    "kernelspec": {
      "name": "python3",
      "display_name": "Python 3"
    },
    "language_info": {
      "name": "python"
    }
  },
  "cells": [
    {
      "cell_type": "code",
      "execution_count": null,
      "metadata": {
        "colab": {
          "base_uri": "https://localhost:8080/"
        },
        "id": "-P_FT20TpKRJ",
        "outputId": "592b812f-52e6-4e26-8ab5-015f966b4377"
      },
      "outputs": [
        {
          "output_type": "stream",
          "name": "stdout",
          "text": [
            "Requirement already satisfied: pyspark in /usr/local/lib/python3.10/dist-packages (3.5.0)\n",
            "Requirement already satisfied: py4j==0.10.9.7 in /usr/local/lib/python3.10/dist-packages (from pyspark) (0.10.9.7)\n"
          ]
        }
      ],
      "source": [
        "!pip install pyspark\n"
      ]
    },
    {
      "cell_type": "code",
      "source": [
        "from pyspark.sql import SparkSession\n",
        "\n",
        "spark = SparkSession.builder.appName(\"WebServerLogAnalysis\").getOrCreate()"
      ],
      "metadata": {
        "id": "BEYyl3hWpNpP"
      },
      "execution_count": null,
      "outputs": []
    },
    {
      "cell_type": "code",
      "source": [
        "log_df = spark.read.csv(\"/content/logs_df.csv\", header=True, inferSchema=True)\n"
      ],
      "metadata": {
        "id": "xIMWwxvzpNw2"
      },
      "execution_count": null,
      "outputs": []
    },
    {
      "cell_type": "code",
      "source": [
        "log_df"
      ],
      "metadata": {
        "colab": {
          "base_uri": "https://localhost:8080/"
        },
        "id": "wOCnzRB3qyuQ",
        "outputId": "a1beddaa-4139-4ddd-de8a-911f9240460f"
      },
      "execution_count": null,
      "outputs": [
        {
          "output_type": "execute_result",
          "data": {
            "text/plain": [
              "DataFrame[Host: bigint, Date: date, Time: timestamp, Method: int, Endpoint: int, Protocol: int, Status Code: int, Content Size: double, No of Requests: int]"
            ]
          },
          "metadata": {},
          "execution_count": 162
        }
      ]
    },
    {
      "cell_type": "code",
      "source": [
        "log_df.printSchema()"
      ],
      "metadata": {
        "id": "xWl-FuyAuZ44",
        "colab": {
          "base_uri": "https://localhost:8080/"
        },
        "outputId": "15830356-3d49-4b05-a710-8d2dbfb0591e"
      },
      "execution_count": null,
      "outputs": [
        {
          "output_type": "stream",
          "name": "stdout",
          "text": [
            "root\n",
            " |-- Host: long (nullable = true)\n",
            " |-- Date: date (nullable = true)\n",
            " |-- Time: timestamp (nullable = true)\n",
            " |-- Method: integer (nullable = true)\n",
            " |-- Endpoint: integer (nullable = true)\n",
            " |-- Protocol: integer (nullable = true)\n",
            " |-- Status Code: integer (nullable = true)\n",
            " |-- Content Size: double (nullable = true)\n",
            " |-- No of Requests: integer (nullable = true)\n",
            "\n"
          ]
        }
      ]
    },
    {
      "cell_type": "code",
      "source": [
        "from pyspark.ml import Pipeline\n",
        "from pyspark.ml.feature import StringIndexer, VectorAssembler\n",
        "from pyspark.ml.classification import DecisionTreeClassifier\n",
        "from pyspark.ml.evaluation import MulticlassClassificationEvaluator\n",
        "from pyspark.sql.functions import when\n",
        "from pyspark.sql.types import IntegerType\n",
        "import pyspark.sql.functions as F\n"
      ],
      "metadata": {
        "id": "ZrWHp-bkuZ8X"
      },
      "execution_count": null,
      "outputs": []
    },
    {
      "cell_type": "code",
      "source": [
        "# Define input columns and output column for VectorAssembler\n",
        "inputColumns = ['Endpoint', 'Protocol', 'Status Code','No of Requests']\n",
        "\n",
        "\n"
      ],
      "metadata": {
        "id": "ecAVzMGuteqU"
      },
      "execution_count": null,
      "outputs": []
    },
    {
      "cell_type": "code",
      "source": [
        "for col_name in inputColumns:\n",
        "    log_df = log_df.withColumn(col_name, log_df[col_name].cast(IntegerType()))\n",
        "log_df.printSchema()"
      ],
      "metadata": {
        "colab": {
          "base_uri": "https://localhost:8080/"
        },
        "id": "brGPu_N30dtL",
        "outputId": "96ec71da-fdca-4622-b663-856de2d2eafd"
      },
      "execution_count": null,
      "outputs": [
        {
          "output_type": "stream",
          "name": "stdout",
          "text": [
            "root\n",
            " |-- Host: long (nullable = true)\n",
            " |-- Date: date (nullable = true)\n",
            " |-- Time: timestamp (nullable = true)\n",
            " |-- Method: integer (nullable = true)\n",
            " |-- Endpoint: integer (nullable = true)\n",
            " |-- Protocol: integer (nullable = true)\n",
            " |-- Status Code: integer (nullable = true)\n",
            " |-- Content Size: double (nullable = true)\n",
            " |-- No of Requests: integer (nullable = true)\n",
            "\n"
          ]
        }
      ]
    },
    {
      "cell_type": "code",
      "source": [
        "train_df, test_df = log_df.randomSplit([0.8, 0.2], seed=11)\n",
        "train_df.count()\n",
        "test_df.count()//902"
      ],
      "metadata": {
        "colab": {
          "base_uri": "https://localhost:8080/"
        },
        "id": "DSKCKw1z0dwJ",
        "outputId": "921ba618-e730-4c52-a90a-f918dd9b90d0"
      },
      "execution_count": null,
      "outputs": [
        {
          "output_type": "execute_result",
          "data": {
            "text/plain": [
              "1"
            ]
          },
          "metadata": {},
          "execution_count": 167
        }
      ]
    },
    {
      "cell_type": "code",
      "source": [
        "method_indexer = StringIndexer(inputCol=\"Method\", outputCol=\"method_index\")\n",
        "\n",
        "train_df = method_indexer.fit(train_df).transform(train_df)"
      ],
      "metadata": {
        "id": "eMGttnxD0dzi"
      },
      "execution_count": null,
      "outputs": []
    },
    {
      "cell_type": "code",
      "source": [
        "input_cols = ['Endpoint', 'Protocol', 'Status Code','No of Requests']\n",
        "vector_assembler = VectorAssembler(inputCols=input_cols, outputCol=\"features\")\n",
        "train_df = vector_assembler.transform(train_df)\n",
        "train_df.show()\n",
        "\n"
      ],
      "metadata": {
        "id": "nfIeeLNLq-Do",
        "colab": {
          "base_uri": "https://localhost:8080/"
        },
        "outputId": "1be743d9-8144-42c4-9257-5e663fdae2e1"
      },
      "execution_count": null,
      "outputs": [
        {
          "output_type": "stream",
          "name": "stdout",
          "text": [
            "+--------+----------+-------------------+------+--------+--------+-----------+------------+--------------+------------+--------------------+\n",
            "|    Host|      Date|               Time|Method|Endpoint|Protocol|Status Code|Content Size|No of Requests|method_index|            features|\n",
            "+--------+----------+-------------------+------+--------+--------+-----------+------------+--------------+------------+--------------------+\n",
            "|17783894|2023-02-12|2023-11-06 15:51:11|     0|       0|       0|          6|       150.0|             1|         1.0|   [0.0,0.0,6.0,1.0]|\n",
            "|20617920|2023-02-21|2023-11-06 06:58:21|     4|     414|       6|          3|       169.0|             1|         0.0| [414.0,6.0,3.0,1.0]|\n",
            "|37321408|2023-02-13|2023-11-06 02:59:27|     4|      16|       6|          3|       169.0|             1|         0.0|  [16.0,6.0,3.0,1.0]|\n",
            "|45934648|2023-02-19|2023-11-06 23:23:40|     4|      10|       6|          3|       169.0|             1|         0.0|  [10.0,6.0,3.0,1.0]|\n",
            "|56068900|2023-02-21|2023-11-06 20:54:44|     4|      10|       6|          0|      5952.0|             3|         0.0|  [10.0,6.0,0.0,3.0]|\n",
            "|56700702|2023-02-19|2023-11-06 20:55:35|     4|     301|       6|          3|       169.0|            22|         0.0|[301.0,6.0,3.0,22.0]|\n",
            "|56700702|2023-02-19|2023-11-06 20:55:36|     4|     301|       6|          7|       146.0|            22|         0.0|[301.0,6.0,7.0,22.0]|\n",
            "|56700702|2023-02-19|2023-11-06 20:55:37|     7|      79|       6|          3|       169.0|            22|         2.0| [79.0,6.0,3.0,22.0]|\n",
            "|56700702|2023-02-19|2023-11-06 20:55:38|     4|      79|       6|          7|       146.0|            22|         0.0| [79.0,6.0,7.0,22.0]|\n",
            "|56700702|2023-02-19|2023-11-06 20:55:38|     7|     476|       6|          3|       169.0|            22|         2.0|[476.0,6.0,3.0,22.0]|\n",
            "|56700702|2023-02-19|2023-11-06 20:55:41|     4|     403|       6|          3|       169.0|            22|         0.0|[403.0,6.0,3.0,22.0]|\n",
            "|56700702|2023-02-19|2023-11-06 20:55:43|     4|     314|       6|          7|       146.0|            22|         0.0|[314.0,6.0,7.0,22.0]|\n",
            "|56700702|2023-02-19|2023-11-06 20:55:44|     4|     302|       6|          3|       169.0|            22|         0.0|[302.0,6.0,3.0,22.0]|\n",
            "|56700702|2023-02-19|2023-11-06 20:55:44|     4|     302|       6|          7|       146.0|            22|         0.0|[302.0,6.0,7.0,22.0]|\n",
            "|56700702|2023-02-19|2023-11-06 20:55:46|     4|      56|       6|          3|       169.0|            22|         0.0| [56.0,6.0,3.0,22.0]|\n",
            "|56700702|2023-02-19|2023-11-06 20:55:46|     4|     321|       6|          7|       146.0|            22|         0.0|[321.0,6.0,7.0,22.0]|\n",
            "|56700702|2023-02-19|2023-11-06 20:55:47|     4|      56|       6|          0|      5952.0|            22|         0.0| [56.0,6.0,0.0,22.0]|\n",
            "|56700702|2023-02-19|2023-11-06 20:55:48|     4|     471|       6|          3|       169.0|            22|         0.0|[471.0,6.0,3.0,22.0]|\n",
            "|56700702|2023-02-19|2023-11-06 20:55:49|     4|     471|       6|          7|       146.0|            22|         0.0|[471.0,6.0,7.0,22.0]|\n",
            "|56700702|2023-02-19|2023-11-06 20:55:50|     4|     488|       6|          7|       146.0|            22|         0.0|[488.0,6.0,7.0,22.0]|\n",
            "+--------+----------+-------------------+------+--------+--------+-----------+------------+--------------+------------+--------------------+\n",
            "only showing top 20 rows\n",
            "\n"
          ]
        }
      ]
    },
    {
      "cell_type": "code",
      "source": [
        "dt_model = DecisionTreeClassifier(labelCol=\"method_index\", featuresCol=\"features\")\n",
        "dt_model = dt_model.fit(train_df)\n"
      ],
      "metadata": {
        "id": "HAPkJyS_0dHb"
      },
      "execution_count": null,
      "outputs": []
    },
    {
      "cell_type": "code",
      "source": [
        "evaluator = MulticlassClassificationEvaluator(labelCol=\"method_index\")\n",
        "\n",
        "# Transform and predict on test data\n",
        "test_df = test_df.withColumn(\"price\", F.when(F.col(\"Method\") >= 0, 1).otherwise(0).cast(IntegerType()))\n",
        "test_df = method_indexer.fit(test_df).transform(test_df)\n",
        "test_df = vector_assembler.transform(test_df)\n",
        "test_predictions = dt_model.transform(test_df)\n",
        "\n",
        "# Display evaluation results\n",
        "accuracy = evaluator.evaluate(test_predictions)\n",
        "print(f\"Area under ROC curve: {accuracy}\")"
      ],
      "metadata": {
        "id": "JGclMydw0dKr",
        "colab": {
          "base_uri": "https://localhost:8080/"
        },
        "outputId": "8536f22d-736d-4016-9cce-a246d19a63ad"
      },
      "execution_count": null,
      "outputs": [
        {
          "output_type": "stream",
          "name": "stdout",
          "text": [
            "Area under ROC curve: 0.9299187833111399\n"
          ]
        }
      ]
    },
    {
      "cell_type": "code",
      "source": [
        "from pyspark.ml.tuning import  CrossValidator,ParamGridBuilder\n"
      ],
      "metadata": {
        "id": "W12UOBsXJkqs"
      },
      "execution_count": null,
      "outputs": []
    },
    {
      "cell_type": "code",
      "source": [
        "train_data, test_data = log_df.randomSplit([0.8, 0.2], seed=11)\n",
        "train_df.count()\n",
        "test_df.count()//902"
      ],
      "metadata": {
        "id": "VDhGFHJXYfoV",
        "colab": {
          "base_uri": "https://localhost:8080/"
        },
        "outputId": "c14ffe5a-cd0a-4ec9-e50e-a26125b325bd"
      },
      "execution_count": null,
      "outputs": [
        {
          "output_type": "execute_result",
          "data": {
            "text/plain": [
              "1"
            ]
          },
          "metadata": {},
          "execution_count": 232
        }
      ]
    },
    {
      "cell_type": "code",
      "source": [
        "Indexer=StringIndexer(inputCol=\"Method\",outputCol=\"method_index1\")\n",
        "train_data = Indexer.fit(train_df).transform(train_df)\n",
        "\n",
        "\n",
        "input_cols = ['Endpoint', 'Protocol', 'Status Code','No of Requests']\n",
        "vector_assembler = VectorAssembler(inputCols=input_cols, outputCol=\"features\")\n",
        "\n",
        "train_data.show()\n",
        "\n"
      ],
      "metadata": {
        "id": "xM7jXYQvWXFo",
        "colab": {
          "base_uri": "https://localhost:8080/"
        },
        "outputId": "d0b16537-4ab6-4a69-b9b9-6b6cd6abebf7"
      },
      "execution_count": null,
      "outputs": [
        {
          "output_type": "stream",
          "name": "stdout",
          "text": [
            "+--------+----------+-------------------+------+--------+--------+-----------+------------+--------------+------------+--------------------+-------------+\n",
            "|    Host|      Date|               Time|Method|Endpoint|Protocol|Status Code|Content Size|No of Requests|method_index|            features|method_index1|\n",
            "+--------+----------+-------------------+------+--------+--------+-----------+------------+--------------+------------+--------------------+-------------+\n",
            "|17783894|2023-02-12|2023-11-06 15:51:11|     0|       0|       0|          6|       150.0|             1|         1.0|   [0.0,0.0,6.0,1.0]|          1.0|\n",
            "|20617920|2023-02-21|2023-11-06 06:58:21|     4|     414|       6|          3|       169.0|             1|         0.0| [414.0,6.0,3.0,1.0]|          0.0|\n",
            "|37321408|2023-02-13|2023-11-06 02:59:27|     4|      16|       6|          3|       169.0|             1|         0.0|  [16.0,6.0,3.0,1.0]|          0.0|\n",
            "|45934648|2023-02-19|2023-11-06 23:23:40|     4|      10|       6|          3|       169.0|             1|         0.0|  [10.0,6.0,3.0,1.0]|          0.0|\n",
            "|56068900|2023-02-21|2023-11-06 20:54:44|     4|      10|       6|          0|      5952.0|             3|         0.0|  [10.0,6.0,0.0,3.0]|          0.0|\n",
            "|56700702|2023-02-19|2023-11-06 20:55:35|     4|     301|       6|          3|       169.0|            22|         0.0|[301.0,6.0,3.0,22.0]|          0.0|\n",
            "|56700702|2023-02-19|2023-11-06 20:55:36|     4|     301|       6|          7|       146.0|            22|         0.0|[301.0,6.0,7.0,22.0]|          0.0|\n",
            "|56700702|2023-02-19|2023-11-06 20:55:37|     7|      79|       6|          3|       169.0|            22|         2.0| [79.0,6.0,3.0,22.0]|          2.0|\n",
            "|56700702|2023-02-19|2023-11-06 20:55:38|     4|      79|       6|          7|       146.0|            22|         0.0| [79.0,6.0,7.0,22.0]|          0.0|\n",
            "|56700702|2023-02-19|2023-11-06 20:55:38|     7|     476|       6|          3|       169.0|            22|         2.0|[476.0,6.0,3.0,22.0]|          2.0|\n",
            "|56700702|2023-02-19|2023-11-06 20:55:41|     4|     403|       6|          3|       169.0|            22|         0.0|[403.0,6.0,3.0,22.0]|          0.0|\n",
            "|56700702|2023-02-19|2023-11-06 20:55:43|     4|     314|       6|          7|       146.0|            22|         0.0|[314.0,6.0,7.0,22.0]|          0.0|\n",
            "|56700702|2023-02-19|2023-11-06 20:55:44|     4|     302|       6|          3|       169.0|            22|         0.0|[302.0,6.0,3.0,22.0]|          0.0|\n",
            "|56700702|2023-02-19|2023-11-06 20:55:44|     4|     302|       6|          7|       146.0|            22|         0.0|[302.0,6.0,7.0,22.0]|          0.0|\n",
            "|56700702|2023-02-19|2023-11-06 20:55:46|     4|      56|       6|          3|       169.0|            22|         0.0| [56.0,6.0,3.0,22.0]|          0.0|\n",
            "|56700702|2023-02-19|2023-11-06 20:55:46|     4|     321|       6|          7|       146.0|            22|         0.0|[321.0,6.0,7.0,22.0]|          0.0|\n",
            "|56700702|2023-02-19|2023-11-06 20:55:47|     4|      56|       6|          0|      5952.0|            22|         0.0| [56.0,6.0,0.0,22.0]|          0.0|\n",
            "|56700702|2023-02-19|2023-11-06 20:55:48|     4|     471|       6|          3|       169.0|            22|         0.0|[471.0,6.0,3.0,22.0]|          0.0|\n",
            "|56700702|2023-02-19|2023-11-06 20:55:49|     4|     471|       6|          7|       146.0|            22|         0.0|[471.0,6.0,7.0,22.0]|          0.0|\n",
            "|56700702|2023-02-19|2023-11-06 20:55:50|     4|     488|       6|          7|       146.0|            22|         0.0|[488.0,6.0,7.0,22.0]|          0.0|\n",
            "+--------+----------+-------------------+------+--------+--------+-----------+------------+--------------+------------+--------------------+-------------+\n",
            "only showing top 20 rows\n",
            "\n"
          ]
        }
      ]
    },
    {
      "cell_type": "code",
      "source": [
        "paramGrid=ParamGridBuilder().addGrid(dt_model.maxDepth,[5,10,15]).addGrid(dt_model.minInstancesPerNode,[3,5,7]).addGrid(dt_model.maxBins,[32,64,128]).addGrid(dt_model.impurity,[\"gini\",\"entropy\"]).build()\n"
      ],
      "metadata": {
        "id": "ghB3eE3mJdEZ"
      },
      "execution_count": null,
      "outputs": []
    },
    {
      "cell_type": "code",
      "source": [
        "crossval=CrossValidator(estimator=pipeline,estimatorParamMaps=paramGrid,evaluator=MulticlassClassificationEvaluator(labelCol='method_index',predictionCol='prediction',metricName='accuracy'),numFolds=5)"
      ],
      "metadata": {
        "id": "5KtVC8VVJdJb"
      },
      "execution_count": null,
      "outputs": []
    },
    {
      "cell_type": "markdown",
      "source": [],
      "metadata": {
        "id": "aLXgszJI8W9I"
      }
    },
    {
      "cell_type": "code",
      "source": [
        "train_df1, test_df1 = log_df.randomSplit([0.8, 0.2], seed=11)\n",
        "train_df.count()\n",
        "test_df1.count()//902"
      ],
      "metadata": {
        "id": "4vH4Zfac7oaO",
        "colab": {
          "base_uri": "https://localhost:8080/"
        },
        "outputId": "2d391633-98fb-4d09-d614-d2efc535726f"
      },
      "execution_count": null,
      "outputs": [
        {
          "output_type": "execute_result",
          "data": {
            "text/plain": [
              "1"
            ]
          },
          "metadata": {},
          "execution_count": 183
        }
      ]
    },
    {
      "cell_type": "code",
      "source": [
        "method_indexer = StringIndexer(inputCol=\"Method\", outputCol=\"method_index\")\n",
        "\n",
        "train_df1 = method_indexer.fit(train_df1).transform(train_df1)\n",
        "input_cols = ['Endpoint', 'Protocol', 'Status Code','No of Requests']\n",
        "vector_assembler = VectorAssembler(inputCols=input_cols, outputCol=\"features\")\n",
        "train_df1 = vector_assembler.transform(train_df1)\n",
        "train_df1.show()"
      ],
      "metadata": {
        "id": "MV1n6mwl7-uH",
        "colab": {
          "base_uri": "https://localhost:8080/"
        },
        "outputId": "8956b330-cbc7-4f65-fae0-405175c4a821"
      },
      "execution_count": null,
      "outputs": [
        {
          "output_type": "stream",
          "name": "stdout",
          "text": [
            "+--------+----------+-------------------+------+--------+--------+-----------+------------+--------------+------------+--------------------+\n",
            "|    Host|      Date|               Time|Method|Endpoint|Protocol|Status Code|Content Size|No of Requests|method_index|            features|\n",
            "+--------+----------+-------------------+------+--------+--------+-----------+------------+--------------+------------+--------------------+\n",
            "|17783894|2023-02-12|2023-11-06 15:51:11|     0|       0|       0|          6|       150.0|             1|         1.0|   [0.0,0.0,6.0,1.0]|\n",
            "|20617920|2023-02-21|2023-11-06 06:58:21|     4|     414|       6|          3|       169.0|             1|         0.0| [414.0,6.0,3.0,1.0]|\n",
            "|37321408|2023-02-13|2023-11-06 02:59:27|     4|      16|       6|          3|       169.0|             1|         0.0|  [16.0,6.0,3.0,1.0]|\n",
            "|45934648|2023-02-19|2023-11-06 23:23:40|     4|      10|       6|          3|       169.0|             1|         0.0|  [10.0,6.0,3.0,1.0]|\n",
            "|56068900|2023-02-21|2023-11-06 20:54:44|     4|      10|       6|          0|      5952.0|             3|         0.0|  [10.0,6.0,0.0,3.0]|\n",
            "|56700702|2023-02-19|2023-11-06 20:55:35|     4|     301|       6|          3|       169.0|            22|         0.0|[301.0,6.0,3.0,22.0]|\n",
            "|56700702|2023-02-19|2023-11-06 20:55:36|     4|     301|       6|          7|       146.0|            22|         0.0|[301.0,6.0,7.0,22.0]|\n",
            "|56700702|2023-02-19|2023-11-06 20:55:37|     7|      79|       6|          3|       169.0|            22|         2.0| [79.0,6.0,3.0,22.0]|\n",
            "|56700702|2023-02-19|2023-11-06 20:55:38|     4|      79|       6|          7|       146.0|            22|         0.0| [79.0,6.0,7.0,22.0]|\n",
            "|56700702|2023-02-19|2023-11-06 20:55:38|     7|     476|       6|          3|       169.0|            22|         2.0|[476.0,6.0,3.0,22.0]|\n",
            "|56700702|2023-02-19|2023-11-06 20:55:41|     4|     403|       6|          3|       169.0|            22|         0.0|[403.0,6.0,3.0,22.0]|\n",
            "|56700702|2023-02-19|2023-11-06 20:55:43|     4|     314|       6|          7|       146.0|            22|         0.0|[314.0,6.0,7.0,22.0]|\n",
            "|56700702|2023-02-19|2023-11-06 20:55:44|     4|     302|       6|          3|       169.0|            22|         0.0|[302.0,6.0,3.0,22.0]|\n",
            "|56700702|2023-02-19|2023-11-06 20:55:44|     4|     302|       6|          7|       146.0|            22|         0.0|[302.0,6.0,7.0,22.0]|\n",
            "|56700702|2023-02-19|2023-11-06 20:55:46|     4|      56|       6|          3|       169.0|            22|         0.0| [56.0,6.0,3.0,22.0]|\n",
            "|56700702|2023-02-19|2023-11-06 20:55:46|     4|     321|       6|          7|       146.0|            22|         0.0|[321.0,6.0,7.0,22.0]|\n",
            "|56700702|2023-02-19|2023-11-06 20:55:47|     4|      56|       6|          0|      5952.0|            22|         0.0| [56.0,6.0,0.0,22.0]|\n",
            "|56700702|2023-02-19|2023-11-06 20:55:48|     4|     471|       6|          3|       169.0|            22|         0.0|[471.0,6.0,3.0,22.0]|\n",
            "|56700702|2023-02-19|2023-11-06 20:55:49|     4|     471|       6|          7|       146.0|            22|         0.0|[471.0,6.0,7.0,22.0]|\n",
            "|56700702|2023-02-19|2023-11-06 20:55:50|     4|     488|       6|          7|       146.0|            22|         0.0|[488.0,6.0,7.0,22.0]|\n",
            "+--------+----------+-------------------+------+--------+--------+-----------+------------+--------------+------------+--------------------+\n",
            "only showing top 20 rows\n",
            "\n"
          ]
        }
      ]
    },
    {
      "cell_type": "code",
      "source": [
        "lr_model = LogisticRegression(labelCol=\"method_index\", featuresCol=\"features\")\n",
        "lr_model = lr_model.fit(train_df1)"
      ],
      "metadata": {
        "id": "qdgMO67u7LNZ"
      },
      "execution_count": null,
      "outputs": []
    },
    {
      "cell_type": "code",
      "source": [
        "evaluator = MulticlassClassificationEvaluator(labelCol=\"method_index\")\n",
        "\n",
        "# Transform and predict on test data\n",
        "test_df1 = test_df1.withColumn(\"price\", F.when(F.col(\"Method\") >= 0, 1).otherwise(0).cast(IntegerType()))\n",
        "test_df1 = method_indexer.fit(test_df1).transform(test_df1)\n",
        "test_df1 = vector_assembler.transform(test_df1)\n",
        "test_predictions = lr_model.transform(test_df1)\n",
        "\n",
        "# Display evaluation results\n",
        "accuracy = evaluator.evaluate(test_predictions)\n",
        "print(f\"Area under ROC curve: {accuracy}\")"
      ],
      "metadata": {
        "id": "2ySx6Crz0dRM",
        "colab": {
          "base_uri": "https://localhost:8080/"
        },
        "outputId": "6f382fcb-1616-4ab1-c568-491ebdff7d05"
      },
      "execution_count": null,
      "outputs": [
        {
          "output_type": "stream",
          "name": "stdout",
          "text": [
            "Area under ROC curve: 0.7709503083249075\n"
          ]
        }
      ]
    },
    {
      "cell_type": "markdown",
      "source": [
        "**NAIVE BAYES**"
      ],
      "metadata": {
        "id": "T150hVQS9E7I"
      }
    },
    {
      "cell_type": "code",
      "source": [
        "train_df2, test_df2 = log_df.randomSplit([0.8, 0.2], seed=11)\n",
        "train_df2.count()\n",
        "test_df2.count()//902\n",
        "\n",
        "method_indexer = StringIndexer(inputCol=\"Method\", outputCol=\"method_index\")\n",
        "\n",
        "train_df2 = method_indexer.fit(train_df2).transform(train_df2)\n",
        "input_cols = ['Endpoint', 'Protocol', 'Status Code','No of Requests']\n",
        "vector_assembler = VectorAssembler(inputCols=input_cols, outputCol=\"features\")\n",
        "train_df2 = vector_assembler.transform(train_df2)\n",
        "train_df2.show()"
      ],
      "metadata": {
        "id": "Bw7u3jibs7U_",
        "colab": {
          "base_uri": "https://localhost:8080/"
        },
        "outputId": "b3ae5766-f2ac-4d3f-87fb-2507c25e1cc4"
      },
      "execution_count": null,
      "outputs": [
        {
          "output_type": "stream",
          "name": "stdout",
          "text": [
            "+--------+----------+-------------------+------+--------+--------+-----------+------------+--------------+------------+--------------------+\n",
            "|    Host|      Date|               Time|Method|Endpoint|Protocol|Status Code|Content Size|No of Requests|method_index|            features|\n",
            "+--------+----------+-------------------+------+--------+--------+-----------+------------+--------------+------------+--------------------+\n",
            "|17783894|2023-02-12|2023-11-06 15:51:11|     0|       0|       0|          6|       150.0|             1|         1.0|   [0.0,0.0,6.0,1.0]|\n",
            "|20617920|2023-02-21|2023-11-06 06:58:21|     4|     414|       6|          3|       169.0|             1|         0.0| [414.0,6.0,3.0,1.0]|\n",
            "|37321408|2023-02-13|2023-11-06 02:59:27|     4|      16|       6|          3|       169.0|             1|         0.0|  [16.0,6.0,3.0,1.0]|\n",
            "|45934648|2023-02-19|2023-11-06 23:23:40|     4|      10|       6|          3|       169.0|             1|         0.0|  [10.0,6.0,3.0,1.0]|\n",
            "|56068900|2023-02-21|2023-11-06 20:54:44|     4|      10|       6|          0|      5952.0|             3|         0.0|  [10.0,6.0,0.0,3.0]|\n",
            "|56700702|2023-02-19|2023-11-06 20:55:35|     4|     301|       6|          3|       169.0|            22|         0.0|[301.0,6.0,3.0,22.0]|\n",
            "|56700702|2023-02-19|2023-11-06 20:55:36|     4|     301|       6|          7|       146.0|            22|         0.0|[301.0,6.0,7.0,22.0]|\n",
            "|56700702|2023-02-19|2023-11-06 20:55:37|     7|      79|       6|          3|       169.0|            22|         2.0| [79.0,6.0,3.0,22.0]|\n",
            "|56700702|2023-02-19|2023-11-06 20:55:38|     4|      79|       6|          7|       146.0|            22|         0.0| [79.0,6.0,7.0,22.0]|\n",
            "|56700702|2023-02-19|2023-11-06 20:55:38|     7|     476|       6|          3|       169.0|            22|         2.0|[476.0,6.0,3.0,22.0]|\n",
            "|56700702|2023-02-19|2023-11-06 20:55:41|     4|     403|       6|          3|       169.0|            22|         0.0|[403.0,6.0,3.0,22.0]|\n",
            "|56700702|2023-02-19|2023-11-06 20:55:43|     4|     314|       6|          7|       146.0|            22|         0.0|[314.0,6.0,7.0,22.0]|\n",
            "|56700702|2023-02-19|2023-11-06 20:55:44|     4|     302|       6|          3|       169.0|            22|         0.0|[302.0,6.0,3.0,22.0]|\n",
            "|56700702|2023-02-19|2023-11-06 20:55:44|     4|     302|       6|          7|       146.0|            22|         0.0|[302.0,6.0,7.0,22.0]|\n",
            "|56700702|2023-02-19|2023-11-06 20:55:46|     4|      56|       6|          3|       169.0|            22|         0.0| [56.0,6.0,3.0,22.0]|\n",
            "|56700702|2023-02-19|2023-11-06 20:55:46|     4|     321|       6|          7|       146.0|            22|         0.0|[321.0,6.0,7.0,22.0]|\n",
            "|56700702|2023-02-19|2023-11-06 20:55:47|     4|      56|       6|          0|      5952.0|            22|         0.0| [56.0,6.0,0.0,22.0]|\n",
            "|56700702|2023-02-19|2023-11-06 20:55:48|     4|     471|       6|          3|       169.0|            22|         0.0|[471.0,6.0,3.0,22.0]|\n",
            "|56700702|2023-02-19|2023-11-06 20:55:49|     4|     471|       6|          7|       146.0|            22|         0.0|[471.0,6.0,7.0,22.0]|\n",
            "|56700702|2023-02-19|2023-11-06 20:55:50|     4|     488|       6|          7|       146.0|            22|         0.0|[488.0,6.0,7.0,22.0]|\n",
            "+--------+----------+-------------------+------+--------+--------+-----------+------------+--------------+------------+--------------------+\n",
            "only showing top 20 rows\n",
            "\n"
          ]
        }
      ]
    },
    {
      "cell_type": "code",
      "source": [
        "nb_model = NaiveBayes(labelCol=\"method_index\", featuresCol=\"features\")\n",
        "nnb_model = nb_model.fit(train_df2)\n",
        "evaluator = MulticlassClassificationEvaluator(labelCol=\"method_index\")\n",
        "\n",
        "# Transform and predict on test data\n",
        "test_df2 = test_df2.withColumn(\"Method\", F.when(F.col(\"Method\") >= 0, 1).otherwise(0).cast(IntegerType()))\n",
        "test_df2 = method_indexer.fit(test_df2).transform(test_df2)\n",
        "test_df2 = vector_assembler.transform(test_df2)\n",
        "test_predictions = dt_model.transform(test_df2)\n",
        "\n",
        "# Display evaluation results\n",
        "accuracy = evaluator.evaluate(test_predictions)\n",
        "print(f\"Area under ROC curve: {accuracy}\")"
      ],
      "metadata": {
        "id": "cBUTDlGU9Zs0",
        "colab": {
          "base_uri": "https://localhost:8080/"
        },
        "outputId": "971ab3e5-25f9-4014-ac36-f5cae5b63fa3"
      },
      "execution_count": null,
      "outputs": [
        {
          "output_type": "stream",
          "name": "stdout",
          "text": [
            "Area under ROC curve: 0.7745098039215685\n"
          ]
        }
      ]
    },
    {
      "cell_type": "code",
      "source": [
        "import pandas as pd\n",
        "import matplotlib.pyplot as plt\n",
        "\n",
        "# Create a dictionary with your accuracy values\n",
        "data = {\n",
        "    'Algorithm': ['Decision Tree', 'Linear Regression', 'Naive Bayes'],\n",
        "    'Accuracy': [0.9299, 0.7709, 0.7345]\n",
        "}\n",
        "\n",
        "# Create a DataFrame from the dictionary\n",
        "df = pd.DataFrame(data)\n",
        "\n",
        "# Display the table\n",
        "print(df)\n",
        "\n",
        "# Create a bar chart\n",
        "plt.figure(figsize=(8, 5))\n",
        "plt.bar(df['Algorithm'], df['Accuracy'], color=['blue', 'green', 'orange'])\n",
        "plt.xlabel('Algorithm')\n",
        "plt.ylabel('Accuracy')\n",
        "plt.title('Accuracy Comparison for Different Algorithms')\n",
        "plt.ylim(0, 1)  # Set the y-axis limits to match accuracy values (0 to 1)\n",
        "plt.show()\n"
      ],
      "metadata": {
        "id": "KB4p2cl19Z0m",
        "colab": {
          "base_uri": "https://localhost:8080/",
          "height": 560
        },
        "outputId": "05588d7e-49bc-4f1e-c1ce-576da7925a35"
      },
      "execution_count": null,
      "outputs": [
        {
          "output_type": "stream",
          "name": "stdout",
          "text": [
            "           Algorithm  Accuracy\n",
            "0      Decision Tree    0.9299\n",
            "1  Linear Regression    0.7709\n",
            "2        Naive Bayes    0.7345\n"
          ]
        },
        {
          "output_type": "display_data",
          "data": {
            "text/plain": [
              "<Figure size 800x500 with 1 Axes>"
            ],
            "image/png": "[encoded data removed]"
          },
          "metadata": {}
        }
      ]
    },
    {
      "cell_type": "code",
      "source": [],
      "metadata": {
        "id": "pAz8crW49dYO"
      },
      "execution_count": null,
      "outputs": []
    }
  ]
}